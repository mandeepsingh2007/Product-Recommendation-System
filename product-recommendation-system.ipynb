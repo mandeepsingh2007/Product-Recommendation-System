{
 "cells": [
  {
   "cell_type": "code",
   "execution_count": 2,
   "metadata": {},
   "outputs": [
    {
     "name": "stdout",
     "output_type": "stream",
     "text": [
      "Requirement already satisfied: PyMuPDF in c:\\users\\singh\\appdata\\local\\packages\\pythonsoftwarefoundation.python.3.11_qbz5n2kfra8p0\\localcache\\local-packages\\python311\\site-packages (1.25.4)Note: you may need to restart the kernel to use updated packages.\n",
      "\n"
     ]
    }
   ],
   "source": [
    "# Install PyMuPDF\n",
    "%pip install PyMuPDF\n",
    "\n",
    "import fitz  # PyMuPDF for extracting text from PDFs\n",
    "import pandas as pd\n",
    "import numpy as np\n",
    "from sklearn.feature_extraction.text import TfidfVectorizer\n",
    "from sklearn.metrics.pairwise import cosine_similarity\n",
    "from IPython.display import display, HTML  # For displaying images\n",
    "import pickle"
   ]
  },
  {
   "cell_type": "code",
   "execution_count": 3,
   "metadata": {},
   "outputs": [],
   "source": [
    "\n",
    "products = pd.DataFrame([\n",
    "    {\"Name\": \"Ashwagandha Capsules - Stress & Heart Health\", \"Description\": \"Ashwagandha helps reduce stress, regulate heart rate, and improve sleep quality.\", \"Price\": 459, \"Image URL\": \"https://m.media-amazon.com/images/I/71GcBHK3utL.jpg\"},\n",
    "    {\"Name\": \"Brahmi Tablets - Mental Wellness & Stress Relief\", \"Description\": \"Brahmi enhances mental clarity, reduces anxiety, and stabilizes stress hormones.\", \"Price\": 489, \"Image URL\": \"https://m.media-amazon.com/images/I/51C0+wVHRFL.jpg\"},\n",
    "    {\"Name\": \"Arjuna Powder - Heart Health & Blood Circulation\", \"Description\": \"Arjuna is a natural heart tonic that supports cardiovascular health and normalizes BPM.\", \"Price\": 429, \"Image URL\": \"https://m.media-amazon.com/images/I/71vYfp2dKQL.jpg\"},\n",
    "    {\"Name\": \"Giloy Juice - Immunity & Temperature Regulation\", \"Description\": \"Giloy strengthens immunity and helps regulate body temperature during fevers.\", \"Price\": 479, \"Image URL\": \"https://m.media-amazon.com/images/I/71mqXwX6yUL.jpg\"},\n",
    "    {\"Name\": \"Shankhpushpi Syrup - Anxiety & Stress Relief\", \"Description\": \"Shankhpushpi calms the nervous system and helps relieve anxiety and stress.\", \"Price\": 449, \"Image URL\": \"https://m.media-amazon.com/images/I/81jqfa8oxLL.jpg\"},\n",
    "    {\"Name\": \"Mulethi Churna - Respiratory & Fever Relief\", \"Description\": \"Mulethi aids in respiratory health and helps in fever management.\", \"Price\": 439, \"Image URL\": \"https://www.patanjaliayurved.net/assets/product_images/400x500/1721990104mulethichuran1.png\"},\n",
    "    {\"Name\": \"Yashtimadhu Capsules\", \"Description\": \"Soothes the nervous system and reduces stress\", \"Price\": 469, \"Image URL\": \"https://encrypted-tbn0.gstatic.com/images?q=tbn:ANd9GcS6uds7WMah0lTK_6b0yCzvWNrWNEj3D2n8tw&s\"},\n",
    "    {\"Name\": \"Punarnava Powder\", \"Description\": \"Supports healthy circulation and body temperature\", \"Price\": 419, \"Image URL\": \"https://m.media-amazon.com/images/I/61V2xf8ofFL._AC_UF1000,1000_QL80_.jpg\"},\n",
    "    {\"Name\": \"Amalaki Powder\", \"Description\": \"helps reduce stress and balance BPM\", \"Price\": 499, \"Image URL\": \"https://m.media-amazon.com/images/I/81lsvLqDhbL.jpg\"},\n",
    "    {\"Name\": \"Sarpagandha Tablets\", \"Description\": \"Helps regulate high blood pressure and BPM\", \"Price\": 489, \"Image URL\": \"https://rukminim2.flixcart.com/image/850/1000/xif0q/shopsy-ayurvedic/9/a/d/sarpagandha-tablet-50-tablets-pack-of-2-1-baidyanath-original-imah5y3hrswevkau.jpeg?q=20&crop=false\"},\n",
    "    {\"Name\": \"Vacha Powder\", \"Description\": \"Improves mental clarity and reduces stress\", \"Price\": 479, \"Image URL\": \"https://m.media-amazon.com/images/I/71atWOzL4FL._AC_UF1000,1000_QL80_.jpg\"},\n",
    "    {\"Name\": \"Haritaki Powder\", \"Description\": \"Detoxifies the body and balances body temperature\", \"Price\": 469, \"Image URL\": \"https://m.media-amazon.com/images/I/71MGExHk+xL.jpg\"},\n",
    "    {\"Name\": \"Manjistha Powder\", \"Description\": \"Supports healthy circulation and reduces stress\", \"Price\": 459, \"Image URL\": \"https://rukminim2.flixcart.com/image/850/1000/l37mtu80/face-pack/8/b/b/150-manjistha-powder-rubia-cordifolia-for-face-skin-hair-care-original-imagedsqfuasewzf.jpeg?q=90&crop=false\"},\n",
    "    {\"Name\": \"Guduchi Powder\", \"Description\": \"Boosts immunity and regulates body temperature\", \"Price\": 449, \"Image URL\": \"https://m.media-amazon.com/images/I/71lmNL-YGJL.jpg\"},\n",
    "    {\"Name\": \"Licorice Root Powder\", \"Description\": \"Soothes the nervous system and reduces stress\", \"Price\": 439, \"Image URL\": \"https://m.media-amazon.com/images/I/61-t1g9tNRL._AC_UF1000,1000_QL80_.jpg\"},\n",
    "    {\"Name\": \"Shatavari Powder\", \"Description\": \"Helps balance hormones and reduce stress\", \"Price\": 429, \"Image URL\": \"https://m.media-amazon.com/images/I/711qGODnWxL.jpg\"},\n",
    "    {\"Name\": \"Moringa Powder\", \"Description\": \"supports heart health and reduces stress\", \"Price\": 419, \"Image URL\": \"https://m.media-amazon.com/images/I/71kaWiBZkNL.jpg\"},\n",
    "    {\"Name\": \"Triphala Powder\", \"Description\": \"Detoxifies the body and supports overall health\", \"Price\": 499, \"Image URL\": \"https://m.media-amazon.com/images/I/81qDvBBnDXL.jpg\"},\n",
    "    {\"Name\": \"Dashmool Powder\", \"Description\": \"Reduces stress and supports joint health\", \"Price\": 489, \"Image URL\": \"https://m.media-amazon.com/images/I/81Q9XJmvgDL.jpg\"},\n",
    "    {\"Name\": \"Chyawanprash\", \"Description\": \"Boosts immunity and regulates body temperature\", \"Price\": 479, \"Image URL\": \"https://m.media-amazon.com/images/I/71tH6y4K-SL._AC_UF1000,1000_QL80_.jpg\"},\n",
    "    {\"Name\": \"Bala Oil\", \"Description\": \"Promotes relaxation and supports heart health\", \"Price\": 469, \"Image URL\": \"https://m.media-amazon.com/images/I/51+-z4cm3DL.jpg\"},\n",
    "    {\"Name\": \"Bhringraj Oil\", \"Description\": \"Reduces stress and supports hair health\", \"Price\": 459, \"Image URL\": \"https://www.greenlifeherbals.co/cdn/shop/products/004.jpg?v=1681288264\"},\n",
    "    {\"Name\": \"Neem Capsules\", \"Description\": \"Detoxifies the body and regulates body temperature\", \"Price\": 449, \"Image URL\": \"https://m.media-amazon.com/images/I/71frSTC2ybL.jpg\"},\n",
    "    {\"Name\": \"Turmeric Powder\", \"Description\": \"Reduces inflammation and supports heart health\", \"Price\": 439, \"Image URL\": \"https://www.tatanutrikorner.com/cdn/shop/files/turmeric_200g.webp?v=1731900341&width=1445\"},\n",
    "    {\"Name\": \"Ginger Powder\", \"Description\": \"Regulates body temperature and supports digestion\", \"Price\": 429, \"Image URL\": \"https://m.media-amazon.com/images/I/81nKpe0VBPL.jpg\"},\n",
    "    {\"Name\": \"Cinnamon Powder\", \"Description\": \"Supports healthy circulation and reduces stress\", \"Price\": 419, \"Image URL\": \"https://rukminim2.flixcart.com/image/850/1000/kz1lle80/spice-masala/h/0/r/200-cinnamon-powder-dalchini-powder-1-pouch-nutri-guide-powder-original-imagb548guqjz7h4.jpeg?q=20&crop=false\"},\n",
    "    {\"Name\": \"Cardamom Powder\", \"Description\": \"Calms the mind and supports heart health\", \"Price\": 499, \"Image URL\": \"https://keyafoods.com/cdn/shop/files/CardemonSeedPowder.jpg?v=1719815049&width=1445\"},\n",
    "    {\"Name\": \"Fennel Powder\", \"Description\": \"Supports digestion and reduces stress\", \"Price\": 489, \"Image URL\": \"https://aachifoods.com/cdn/shop/files/Fennel-Powder.webp?v=1726910940\"},\n",
    "    {\"Name\": \"Cumin Powder\", \"Description\": \"Regulates body temperature and supports digestion\", \"Price\": 479, \"Image URL\": \"https://m.media-amazon.com/images/I/81Y4dOt-V1L.jpg\"},\n",
    "    {\"Name\": \"Ajwain Powder\", \"Description\": \"Supports digestion and reduces stress\", \"Price\": 469, \"Image URL\": \"https://vedcare.in/wp-content/uploads/2023/12/Vedcare-Natural-Ajwain-Carom-Seed-Powder-200-gm.jpg\"},\n",
    "    {\"Name\": \"Peppermint Oil\", \"Description\": \"Calms the mind and regulates body temperature\", \"Price\": 459, \"Image URL\": \"https://m.media-amazon.com/images/I/61AS9xbq0HL._AC_UF1000,1000_QL80_.jpg\"},\n",
    "    {\"Name\": \"Eucalyptus Oil\", \"Description\": \"Supports respiratory health and reduces stress\", \"Price\": 449, \"Image URL\": \"https://m.media-amazon.com/images/I/51eEhuIEJ7L.jpg\"},\n",
    "    {\"Name\": \"Lavender Oil\", \"Description\": \"Promotes relaxation and reduces stress\", \"Price\": 439, \"Image URL\": \"https://m.media-amazon.com/images/I/81dWT3VBxYL._AC_UF1000,1000_QL80_.jpg\"},\n",
    "    {\"Name\": \"Sandalwood Oil\", \"Description\": \"Calms the mind and supports heart health\", \"Price\": 429, \"Image URL\": \"https://m.media-amazon.com/images/I/71yvVbJpAkL.jpg\"},\n",
    "    {\"Name\": \"Rose Water\", \"Description\": \"Soothes the skin and reduces stress\", \"Price\": 419, \"Image URL\": \"https://m.media-amazon.com/images/I/81qtIkTFGzL._AC_UF1000,1000_QL80_.jpg\"},\n",
    "    {\"Name\": \"Aloe Vera Gel\", \"Description\": \"Regulates body temperature and soothes the skin\", \"Price\": 499, \"Image URL\": \"https://m.media-amazon.com/images/I/61A58BcmbmL.jpg\"},\n",
    "    {\"Name\": \"Honey\", \"Description\": \"Boosts immunity and supports heart health\", \"Price\": 489, \"Image URL\": \"https://www.bigbasket.com/media/uploads/p/xxl/239524-2_6-dabur-100-pure-honey-worlds-no1-honey-brand-with-no-sugar-adulteration.jpg\"},\n",
    "    {\"Name\": \"Ghee\", \"Description\": \"Supports digestion and reduces stress\", \"Price\": 479, \"Image URL\": \"https://www.shuddhamorganics.com/cdn/shop/files/SmartSelect-20231001_000630_Gallery.jpg?v=1696099042\"},\n",
    "    {\"Name\": \"Sesame Oil\", \"Description\": \"Promotes relaxation and supports heart health\", \"Price\": 469, \"Image URL\": \"https://organicmandya.com/cdn/shop/files/200ml_Sesame_Oil.jpg?v=1724933834&width=1500\"},\n",
    "    {\"Name\": \"Coconut Oil\", \"Description\": \"Regulates body temperature and supports skin health\", \"Price\": 459, \"Image URL\": \"https://m.media-amazon.com/images/I/71+I2IPZOqL.jpg\"},\n",
    "    {\"Name\": \"Mustard Oil\", \"Description\": \"Supports heart health and reduces stress\", \"Price\": 449, \"Image URL\": \"https://m.media-amazon.com/images/I/71uXfQr+SjL._AC_UF350,350_QL80_.jpg\"},\n",
    "    {\"Name\": \"Castor Oil\", \"Description\": \"Detoxifies the body and supports digestion\", \"Price\": 439, \"Image URL\": \"https://m.media-amazon.com/images/I/71Pem0dt08L.jpg\"},\n",
    "    {\"Name\": \"Amla Juice\", \"Description\": \"supports heart health and reduces stress\", \"Price\": 429, \"Image URL\": \"https://m.media-amazon.com/images/I/71cqC6167lL.jpg\"},\n",
    "    {\"Name\": \"Pomegranate Juice\", \"Description\": \"Supports heart health and reduces stress\", \"Price\": 419, \"Image URL\": \"https://encrypted-tbn0.gstatic.com/images?q=tbn:ANd9GcTKbo0mq3PS1WLybkIeMPm0gIbVUrr8xvm1vg&s\"},\n",
    "    {\"Name\": \"Tamarind Powder\", \"Description\": \"Supports digestion and reduces stress\", \"Price\": 489, \"Image URL\": \"https://m.media-amazon.com/images/I/71ZNbfUQxjL.jpg\"},\n",
    "    {\"Name\": \"Basil Oil\", \"Description\": \"Calms the mind and supports heart health\", \"Price\": 479, \"Image URL\": \"https://cloudinary.images-iherb.com/image/upload/f_auto,q_auto:eco/images/lat/lat00561/y/34.jpg\"},\n",
    "    {\"Name\": \"Clove Oil\", \"Description\": \"Supports respiratory health and reduces stress\", \"Price\": 469, \"Image URL\": \"https://m.media-amazon.com/images/I/81l+C7zTvwL.jpg\"}\n",
    "])\n"
   ]
  },
  {
   "cell_type": "code",
   "execution_count": 4,
   "metadata": {},
   "outputs": [],
   "source": [
    "\n",
    "def extract_text_from_pdf(pdf_path):\n",
    "    \"\"\"Extract text from a PDF file.\"\"\"\n",
    "    doc = fitz.open(pdf_path)\n",
    "    text = \"\"\n",
    "    for page in doc:\n",
    "        text += page.get_text(\"text\") + \"\\n\"\n",
    "    return text"
   ]
  },
  {
   "cell_type": "code",
   "execution_count": 5,
   "metadata": {},
   "outputs": [],
   "source": [
    "def preprocess_health_report(text):\n",
    "    \"\"\"Extract key health parameters from the health report text.\"\"\"\n",
    "    health_params = {}\n",
    "\n",
    "    # Extract heart rate\n",
    "    if \"Heart Rate:\" in text:\n",
    "        lines = text.split(\"\\n\")\n",
    "        for line in lines:\n",
    "            if \"Current:\" in line:\n",
    "                health_params[\"Heart Rate\"] = int(line.split(\":\")[-1].strip().split()[0])\n",
    "            if \"Stress Level:\" in line:\n",
    "                health_params[\"Stress Level\"] = int(line.split(\":\")[-1].strip())\n",
    "            if \"Body Temperature:\" in line:\n",
    "                health_params[\"Body Temperature\"] = float(line.split(\":\")[-1].strip().replace(\"°F\", \"\"))\n",
    "\n",
    "    return health_params"
   ]
  },
  {
   "cell_type": "code",
   "execution_count": 6,
   "metadata": {},
   "outputs": [],
   "source": [
    "def recommend_ayurvedic_products(health_params):\n",
    "    \"\"\"Recommend top 6 Ayurvedic products based on health conditions.\"\"\"\n",
    "    \n",
    "    # Create user query from health parameters\n",
    "    query = []\n",
    "    if health_params.get(\"Heart Rate\"):\n",
    "        query.append(f\"regulates heart rate normalizes BPM\")\n",
    "    if health_params.get(\"Stress Level\") and health_params[\"Stress Level\"] > 50:\n",
    "        query.append(f\"reduces stress relieves anxiety calms nervous system\")\n",
    "    if health_params.get(\"Body Temperature\") and (health_params[\"Body Temperature\"] < 97 or health_params[\"Body Temperature\"] > 99):\n",
    "        query.append(f\"regulates body temperature boosts immunity\")\n",
    "\n",
    "    query_text = \" \".join(query)\n",
    "    descriptions = products[\"Description\"].tolist()\n",
    "    vectorizer = TfidfVectorizer()\n",
    "    tfidf_matrix = vectorizer.fit_transform(descriptions)\n",
    "    query_vector = vectorizer.transform([query_text])\n",
    "\n",
    "    # Compute cosine similarity\n",
    "    similarity_scores = cosine_similarity(query_vector, tfidf_matrix).flatten()\n",
    "\n",
    "    # Get top 6 recommendations\n",
    "    top_indices = np.argsort(similarity_scores)[-6:][::-1]\n",
    "    recommendations = products.iloc[top_indices]\n",
    "\n",
    "    return recommendations"
   ]
  },
  {
   "cell_type": "code",
   "execution_count": 7,
   "metadata": {},
   "outputs": [],
   "source": [
    "def display_recommendations(recommended_products):\n",
    "    \"\"\"Display product recommendations with images.\"\"\"\n",
    "    html_output = \"<h2>Top 6 Recommended Ayurvedic Products</h2><table>\"\n",
    "    for _, row in recommended_products.iterrows():\n",
    "        html_output += f\"\"\"\n",
    "        <tr>\n",
    "            <td><img src=\"{row['Image URL']}\" width=\"100\" height=\"100\"></td>\n",
    "            <td><b>{row['Name']}</b><br>{row['Description']}<br><b>Price:</b> ₹{row['Price']}</td>\n",
    "        </tr>\n",
    "        \"\"\"\n",
    "    html_output += \"</table>\"\n",
    "    display(HTML(html_output))"
   ]
  },
  {
   "cell_type": "code",
   "execution_count": 8,
   "metadata": {},
   "outputs": [],
   "source": [
    "pdf_path = r\"C:\\Users\\singh\\Downloads\\health_report (6).pdf\"  # Replace with uploaded PDF path\n",
    "report_text = extract_text_from_pdf(pdf_path)\n",
    "health_data = preprocess_health_report(report_text)\n",
    "recommended_products = recommend_ayurvedic_products(health_data)"
   ]
  },
  {
   "cell_type": "code",
   "execution_count": 9,
   "metadata": {},
   "outputs": [
    {
     "data": {
      "text/html": [
       "<h2>Top 6 Recommended Ayurvedic Products</h2><table>\n",
       "        <tr>\n",
       "            <td><img src=\"https://m.media-amazon.com/images/I/81jqfa8oxLL.jpg\" width=\"100\" height=\"100\"></td>\n",
       "            <td><b>Shankhpushpi Syrup - Anxiety & Stress Relief</b><br>Shankhpushpi calms the nervous system and helps relieve anxiety and stress.<br><b>Price:</b> ₹449</td>\n",
       "        </tr>\n",
       "        \n",
       "        <tr>\n",
       "            <td><img src=\"https://m.media-amazon.com/images/I/61-t1g9tNRL._AC_UF1000,1000_QL80_.jpg\" width=\"100\" height=\"100\"></td>\n",
       "            <td><b>Licorice Root Powder</b><br>Soothes the nervous system and reduces stress<br><b>Price:</b> ₹439</td>\n",
       "        </tr>\n",
       "        \n",
       "        <tr>\n",
       "            <td><img src=\"https://encrypted-tbn0.gstatic.com/images?q=tbn:ANd9GcS6uds7WMah0lTK_6b0yCzvWNrWNEj3D2n8tw&s\" width=\"100\" height=\"100\"></td>\n",
       "            <td><b>Yashtimadhu Capsules</b><br>Soothes the nervous system and reduces stress<br><b>Price:</b> ₹469</td>\n",
       "        </tr>\n",
       "        \n",
       "        <tr>\n",
       "            <td><img src=\"https://m.media-amazon.com/images/I/71vYfp2dKQL.jpg\" width=\"100\" height=\"100\"></td>\n",
       "            <td><b>Arjuna Powder - Heart Health & Blood Circulation</b><br>Arjuna is a natural heart tonic that supports cardiovascular health and normalizes BPM.<br><b>Price:</b> ₹429</td>\n",
       "        </tr>\n",
       "        \n",
       "        <tr>\n",
       "            <td><img src=\"https://m.media-amazon.com/images/I/71uXfQr+SjL._AC_UF350,350_QL80_.jpg\" width=\"100\" height=\"100\"></td>\n",
       "            <td><b>Mustard Oil</b><br>Supports heart health and reduces stress<br><b>Price:</b> ₹449</td>\n",
       "        </tr>\n",
       "        \n",
       "        <tr>\n",
       "            <td><img src=\"https://m.media-amazon.com/images/I/71cqC6167lL.jpg\" width=\"100\" height=\"100\"></td>\n",
       "            <td><b>Amla Juice</b><br>supports heart health and reduces stress<br><b>Price:</b> ₹429</td>\n",
       "        </tr>\n",
       "        </table>"
      ],
      "text/plain": [
       "<IPython.core.display.HTML object>"
      ]
     },
     "metadata": {},
     "output_type": "display_data"
    }
   ],
   "source": [
    "display_recommendations(recommended_products)"
   ]
  },
  {
   "cell_type": "code",
   "execution_count": 10,
   "metadata": {},
   "outputs": [],
   "source": [
    "pickle.dump(recommended_products, open(\"recommended_products.pkl\", \"wb\"))"
   ]
  },
  {
   "cell_type": "code",
   "execution_count": 12,
   "metadata": {},
   "outputs": [
    {
     "name": "stdout",
     "output_type": "stream",
     "text": [
      "🔍 Precision: 1.00\n",
      "📡 Recall: 1.00\n",
      "🎯 F1-Score: 1.00\n"
     ]
    }
   ],
   "source": [
    "from sklearn.metrics import precision_score, recall_score, f1_score\n",
    "\n",
    "def evaluate_recommendations(health_params, recommended_products):\n",
    "    \"\"\"Evaluate recommendation system's performance.\"\"\"\n",
    "    \n",
    "    # Define ground truth (actual expected categories based on health conditions)\n",
    "    ground_truth = []\n",
    "    if health_params.get(\"Heart Rate\"):\n",
    "        ground_truth.append(\"heart rate\")\n",
    "    if health_params.get(\"Stress Level\") and health_params[\"Stress Level\"] > 50:\n",
    "        ground_truth.append(\"stress\")\n",
    "    if health_params.get(\"Body Temperature\") and (health_params[\"Body Temperature\"] < 97 or health_params[\"Body Temperature\"] > 99):\n",
    "        ground_truth.append(\"temperature\")\n",
    "\n",
    "    # Extract predicted categories from recommended products\n",
    "    predicted_categories = []\n",
    "    for _, row in recommended_products.iterrows():\n",
    "        if \"heart\" in row[\"Description\"].lower():\n",
    "            predicted_categories.append(\"heart rate\")\n",
    "        if \"stress\" in row[\"Description\"].lower() or \"anxiety\" in row[\"Description\"].lower():\n",
    "            predicted_categories.append(\"stress\")\n",
    "        if \"temperature\" in row[\"Description\"].lower() or \"immunity\" in row[\"Description\"].lower():\n",
    "            predicted_categories.append(\"temperature\")\n",
    "\n",
    "    # Convert to binary arrays for precision/recall calculation\n",
    "    all_categories = list(set(ground_truth + predicted_categories))\n",
    "    y_true = [1 if category in ground_truth else 0 for category in all_categories]\n",
    "    y_pred = [1 if category in predicted_categories else 0 for category in all_categories]\n",
    "\n",
    "    # Calculate evaluation metrics\n",
    "    precision = precision_score(y_true, y_pred)\n",
    "    recall = recall_score(y_true, y_pred)\n",
    "    f1 = f1_score(y_true, y_pred)\n",
    "\n",
    "    print(f\"🔍 Precision: {precision:.2f}\")\n",
    "    print(f\"📡 Recall: {recall:.2f}\")\n",
    "    print(f\"🎯 F1-Score: {f1:.2f}\")\n",
    "\n",
    "    return precision, recall, f1\n",
    "\n",
    "# Evaluate recommendations\n",
    "precision, recall, f1 = evaluate_recommendations(health_data, recommended_products)\n"
   ]
  },
  {
   "cell_type": "code",
   "execution_count": null,
   "metadata": {},
   "outputs": [],
   "source": []
  }
 ],
 "metadata": {
  "kernelspec": {
   "display_name": "Python 3",
   "language": "python",
   "name": "python3"
  },
  "language_info": {
   "codemirror_mode": {
    "name": "ipython",
    "version": 3
   },
   "file_extension": ".py",
   "mimetype": "text/x-python",
   "name": "python",
   "nbconvert_exporter": "python",
   "pygments_lexer": "ipython3",
   "version": "3.11.9"
  }
 },
 "nbformat": 4,
 "nbformat_minor": 2
}
